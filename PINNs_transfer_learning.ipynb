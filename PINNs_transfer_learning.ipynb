{
 "cells": [
  {
   "cell_type": "markdown",
   "metadata": {},
   "source": [
    "## Problem Setup\n",
    "\n",
    "### Poisson equation (1D)\n",
    "\n",
    "$$-\\frac{\\partial^2 u}{\\partial x^2} = f(x)$$\n",
    "\n",
    " \n",
    "\n",
    "### Problem\n",
    "\n",
    "$$-\\frac{\\partial^2 u}{\\partial x^2}=\\nu^2\\pi^2sin(\\nu\\pi x)$$\n",
    "\n",
    "### Boundary Conditions:\n",
    "\n",
    "$$u(-1) = 0, \\  u(1) =0$$\n",
    "\n",
    "### Exact solution:\n",
    "\n",
    "$$u(x)= sin(\\nu\\pi x)$$\n",
    "\n",
    "\n",
    "So the residual will be:\n",
    "\n",
    "$$0=\\frac{\\partial^2u}{\\partial x^2}+\\nu^2\\pi^2sin(\\nu\\pi x)$$"
   ]
  },
  {
   "cell_type": "markdown",
   "metadata": {},
   "source": [
    "# Transfer Learning Source "
   ]
  },
  {
   "cell_type": "code",
   "execution_count": 465,
   "metadata": {},
   "outputs": [
    {
     "name": "stdout",
     "output_type": "stream",
     "text": [
      "cpu\n"
     ]
    }
   ],
   "source": [
    "import torch\n",
    "import torch.autograd as autograd         # computation graph\n",
    "from torch import Tensor                  # tensor node in the computation graph\n",
    "import torch.nn as nn                     # neural networks\n",
    "import torch.optim as optim               # optimizers e.g. gradient descent, ADAM, etc.\n",
    "\n",
    "import matplotlib.pyplot as plt\n",
    "import matplotlib.gridspec as gridspec\n",
    "from mpl_toolkits.axes_grid1 import make_axes_locatable\n",
    "from mpl_toolkits.mplot3d import Axes3D\n",
    "import matplotlib.ticker\n",
    "from sklearn.model_selection import train_test_split\n",
    "\n",
    "import numpy as np\n",
    "import time\n",
    "from pyDOE import lhs         #Latin Hypercube Sampling\n",
    "import scipy.io\n",
    "\n",
    "#Set default dtype to float32\n",
    "torch.set_default_dtype(torch.float)\n",
    "\n",
    "#PyTorch random number generator\n",
    "torch.manual_seed(1234)\n",
    "\n",
    "# Random number generators in other libraries\n",
    "np.random.seed(1234)\n",
    "\n",
    "# Device configuration\n",
    "device = torch.device('cuda' if torch.cuda.is_available() else 'cpu')\n",
    "\n",
    "print(device)\n",
    "\n",
    "if device == 'cuda': \n",
    "    print(torch.cuda.get_device_name()) \n"
   ]
  },
  {
   "cell_type": "markdown",
   "metadata": {},
   "source": [
    "### Parameters setting"
   ]
  },
  {
   "cell_type": "code",
   "execution_count": 466,
   "metadata": {},
   "outputs": [],
   "source": [
    "steps=5000\n",
    "nus = [1,2,3]\n",
    "lr=1e-3\n",
    "layers = np.array([1,50,50,20,50,50,1]) #5 hidden layers\n",
    "# To generate new data:\n",
    "x_l=-1\n",
    "x_r=1\n",
    "\n",
    "total_points=800\n",
    "#Nu: Number of training points (2 as we onlt have 2 boundaries), # Nf: Number of collocation points (Evaluate PDE)\n",
    "Nf=total_points"
   ]
  },
  {
   "cell_type": "markdown",
   "metadata": {},
   "source": [
    "### Functions"
   ]
  },
  {
   "cell_type": "code",
   "execution_count": 467,
   "metadata": {},
   "outputs": [],
   "source": [
    "def f_BC(x):\n",
    "    return 1-torch.abs(x)\n",
    "\n",
    "\n",
    "def f_real(x,nu):\n",
    "    return torch.sin(nu*np.pi*x)\n",
    "\n",
    "# def PDE(x):\n",
    "#     return -nu*(np.pi**2)*torch.sin(np.pi*x)\n",
    "    "
   ]
  },
  {
   "cell_type": "markdown",
   "metadata": {},
   "source": [
    "### Data generation"
   ]
  },
  {
   "cell_type": "code",
   "execution_count": 468,
   "metadata": {},
   "outputs": [],
   "source": [
    "# Plot the function as a 3D heatmap\n",
    "x = torch.linspace(x_l,x_r,total_points).view(-1,1) #prepare to NN\n",
    "\n",
    "\n",
    "\n",
    "# Transform the mesh into a 2-column vector\n",
    "x_test=x\n",
    "\n",
    " \n",
    "# Domain bounds\n",
    "lb=x_test[0] #first value\n",
    "ub=x_test[-1] #last value \n",
    "\n",
    "\n",
    "\n",
    "\n",
    "\n",
    "#Boundary Conditions\n",
    "#Left Edge \n",
    "left_X=lb\n",
    "vleft_boundary = f_BC(lb)\n",
    "\n",
    "#right Edge\n",
    "right_X=ub\n",
    "vright_boundary = f_BC(ub)\n",
    "    \n",
    "# Collocation Points (Evaluate our PDe)\n",
    "#Choose(Nf) points(Latin hypercube)\n",
    "X_train_Nf=lb+(ub-lb)*lhs(1,Nf) # 2 as the inputs are x and y\n",
    "\n",
    "X_train_Nu =torch.vstack([left_X,right_X]) \n",
    "v_train_Nu=torch.vstack([vleft_boundary,vright_boundary])  \n",
    "\n",
    "\n",
    "\n",
    "\n",
    "torch.manual_seed(123)\n",
    "#Store tensors to GPU\n",
    "\n",
    "X_train_Nf=X_train_Nf.float().to(device)#Collocation Points\n",
    "f_hat = torch.zeros(X_train_Nf.shape[0],1).to(device)#to minimize function\n",
    "\n",
    "\n",
    "X_test=x_test.float().to(device) # the input dataset (complete)\n",
    "V_test=v_test.float().to(device) # the real solution "
   ]
  },
  {
   "cell_type": "markdown",
   "metadata": {},
   "source": [
    "### Neural Network"
   ]
  },
  {
   "cell_type": "code",
   "execution_count": 469,
   "metadata": {},
   "outputs": [],
   "source": [
    "class PINN(nn.Module):\n",
    "    ##Neural Network\n",
    "    def __init__(self,layers,nu):\n",
    "        super().__init__() #call __init__ from parent class \n",
    "        'activation function'\n",
    "        self.activation = nn.Tanh()\n",
    "        'loss function'\n",
    "        self.loss_function = nn.MSELoss(reduction ='mean')\n",
    "        'Initialise neural network as a list using nn.Modulelist'  \n",
    "        self.linears = nn.ModuleList([nn.Linear(layers[i], layers[i+1]) for i in range(len(layers)-1)]) \n",
    "        self.iter = 0\n",
    "        self.nu = nu\n",
    "        'Xavier Normal Initialization'\n",
    "        # std = gain * sqrt(2/(input_dim+output_dim))\n",
    "        for i in range(len(layers)-1):\n",
    "\n",
    "            \n",
    "            \n",
    "            nn.init.xavier_normal_(self.linears[i].weight.data, gain=1.0)\n",
    "            \n",
    "            # set biases to zero\n",
    "            nn.init.zeros_(self.linears[i].bias.data)   \n",
    "    'foward pass'\n",
    "    def forward(self,X):\n",
    "        if torch.is_tensor(X) != True:         \n",
    "            X = torch.from_numpy(X)                \n",
    "        a = X.float()\n",
    "        for i in range(len(layers)-2):  \n",
    "            z = self.linears[i](a)              \n",
    "            a = self.activation(z)    \n",
    "        a = self.linears[-1](a)\n",
    "        return a\n",
    "    'Loss Functions'\n",
    "    #Loss BC\n",
    "    def lossBC(self,X_BC,f_BC):\n",
    "        loss_BC=self.loss_function(self.forward(X_BC),f_BC)\n",
    "        return loss_BC\n",
    "    #Loss PDE\n",
    "    def lossPDE(self,X_PDE):\n",
    "        g=X_PDE.clone()\n",
    "        g.requires_grad=True #Enable differentiation\n",
    "        f=self.forward(g)\n",
    "        f_X=autograd.grad(f,g,grad_outputs=torch.ones_like(f),create_graph=True)[0] #first derivative    \n",
    "        grad_x =   f_X[:,0]\n",
    "       \n",
    "        f_XX = autograd.grad(grad_x, g, grad_outputs=torch.ones_like(grad_x), create_graph=True)[0][:, 0]\n",
    "        \n",
    "        solu = np.pi ** 2 *torch.sin(self.nu*np.pi * g[:, 0:1])\n",
    "        delta_f=f_XX.unsqueeze(1) + self.nu**2*solu\n",
    "        \n",
    "         \n",
    "        \n",
    "        \n",
    "        return self.loss_function(delta_f,f_hat)\n",
    "#     + 2*np.pi ** 2 *torch.sin(np.pi * g[:, 0:1])*torch.sin(np.pi * g[:, 1:])\n",
    "        \n",
    "    def loss(self,X_BC,f_BC,X_PDE):\n",
    "        loss_bc=self.lossBC(X_BC,f_BC)\n",
    "        loss_pde=self.lossPDE(X_PDE)\n",
    "        return loss_bc+loss_pde\n",
    "#X_train_Nu,v_train_Nu,X_train_Nf"
   ]
  },
  {
   "cell_type": "markdown",
   "metadata": {},
   "source": [
    "### Model training"
   ]
  },
  {
   "cell_type": "code",
   "execution_count": 470,
   "metadata": {},
   "outputs": [
    {
     "name": "stdout",
     "output_type": "stream",
     "text": [
      "PINN(\n",
      "  (activation): Tanh()\n",
      "  (loss_function): MSELoss()\n",
      "  (linears): ModuleList(\n",
      "    (0): Linear(in_features=1, out_features=50, bias=True)\n",
      "    (1): Linear(in_features=50, out_features=50, bias=True)\n",
      "    (2): Linear(in_features=50, out_features=20, bias=True)\n",
      "    (3): Linear(in_features=20, out_features=50, bias=True)\n",
      "    (4): Linear(in_features=50, out_features=50, bias=True)\n",
      "    (5): Linear(in_features=50, out_features=1, bias=True)\n",
      "  )\n",
      ")\n",
      "tensor(48.2836, grad_fn=<AddBackward0>)\n",
      "error_u 0.83667827\n",
      "tensor(0.0686, grad_fn=<AddBackward0>)\n",
      "error_u 0.02909513\n",
      "tensor(0.0176, grad_fn=<AddBackward0>)\n",
      "error_u 0.009392824\n",
      "tensor(0.0110, grad_fn=<AddBackward0>)\n",
      "error_u 0.005783987\n",
      "tensor(0.0054, grad_fn=<AddBackward0>)\n",
      "error_u 0.0038464197\n",
      "tensor(0.0030, grad_fn=<AddBackward0>)\n",
      "error_u 0.002101146\n",
      "tensor(0.0023, grad_fn=<AddBackward0>)\n",
      "error_u 0.0013346474\n",
      "tensor(0.0018, grad_fn=<AddBackward0>)\n",
      "error_u 0.00077465497\n",
      "tensor(0.0015, grad_fn=<AddBackward0>)\n",
      "error_u 0.000559458\n",
      "tensor(0.0011, grad_fn=<AddBackward0>)\n",
      "error_u 0.0011259352\n",
      "tensor(0.0009, grad_fn=<AddBackward0>)\n",
      "error_u 0.00039202388\n",
      "tensor(0.0137, grad_fn=<AddBackward0>)\n",
      "error_u 0.027892184\n",
      "tensor(0.0025, grad_fn=<AddBackward0>)\n",
      "error_u 0.009444177\n",
      "tensor(0.0097, grad_fn=<AddBackward0>)\n",
      "error_u 0.017643701\n",
      "tensor(0.0003, grad_fn=<AddBackward0>)\n",
      "error_u 0.00039670125\n",
      "tensor(0.0003, grad_fn=<AddBackward0>)\n",
      "error_u 0.016326327\n",
      "tensor(0.0002, grad_fn=<AddBackward0>)\n",
      "error_u 0.00018938747\n",
      "tensor(0.0002, grad_fn=<AddBackward0>)\n",
      "error_u 0.00016555196\n",
      "tensor(0.0002, grad_fn=<AddBackward0>)\n",
      "error_u 0.0018214819\n",
      "tensor(0.0074, grad_fn=<AddBackward0>)\n",
      "error_u 0.026888713\n",
      "tensor(0.0001, grad_fn=<AddBackward0>)\n",
      "error_u 0.00012710472\n",
      "tensor(0.0015, grad_fn=<AddBackward0>)\n",
      "error_u 0.011671505\n",
      "tensor(0.0001, grad_fn=<AddBackward0>)\n",
      "error_u 0.00066608214\n",
      "tensor(9.2995e-05, grad_fn=<AddBackward0>)\n",
      "error_u 0.0005290742\n",
      "tensor(8.6505e-05, grad_fn=<AddBackward0>)\n",
      "error_u 0.00040561912\n",
      "Wall time: 1min 19s\n"
     ]
    }
   ],
   "source": [
    "%%time\n",
    "for nu in nus:\n",
    "    f = f_real(x,nu)\n",
    "    v_test=f.flatten() \n",
    "    \n",
    "    model = PINN(layers,nu)\n",
    "    print(model)\n",
    "    model.to(device)\n",
    "    params = list(model.parameters())\n",
    "    optimizer = torch.optim.Adam(model.parameters(), lr=lr, amsgrad=False)\n",
    "    start_time = time.time()\n",
    "\n",
    "    model.lossBC(X_train_Nu,v_train_Nu)\n",
    "    \n",
    "    \n",
    "    \n",
    "    \n",
    "    error_i = []\n",
    "    epochs = []\n",
    "    loss_i = []\n",
    "    for i in range(steps):\n",
    "\n",
    "        loss = model.loss(X_train_Nu,v_train_Nu,X_train_Nf)# use mean squared error\n",
    "        optimizer.zero_grad()\n",
    "        loss.backward()\n",
    "        optimizer.step()\n",
    "\n",
    "        if i%200==0:\n",
    "            print(loss)\n",
    "            yf = model(X_test)\n",
    "            _, id_train = torch.sort(X_test.squeeze(1))\n",
    "            X_test_plot = X_test[id_train]\n",
    "            yf_plot = yf[id_train]\n",
    "            f_plot = f[id_train]\n",
    "            error_u = np.linalg.norm(yf_plot.detach().numpy()-f_plot.detach().numpy(),2)/np.linalg.norm(f_plot.detach().numpy(),2)\n",
    "            print('error_u',error_u)\n",
    "\n",
    "            epochs.append(i)\n",
    "            error_i.append(error_u)\n",
    "            loss_i.append(loss)\n",
    "            \n",
    "             \n",
    "            \n",
    "#     model_name = 'model_nn/Source_Model_nu_{}'.format(nu)    \n",
    "#     loss_name = 'model_nn/Source_loss_nu_{}'.format(nu)\n",
    "#     error_name = 'model_nn/Source_error_nu_{}'.format(nu)\n",
    "    \n",
    "\n",
    "#     # Save the model's state dictionary\n",
    "#     torch.save(model.state_dict(), model_name)\n",
    "#     torch.save(loss_i, loss_name)\n",
    "#     torch.save(error_i, error_name)"
   ]
  },
  {
   "cell_type": "code",
   "execution_count": 353,
   "metadata": {},
   "outputs": [],
   "source": [
    "def plot_1d(x,y,x_train_plot,yh_plot):\n",
    "    \n",
    "    _, ax = plt.subplots()\n",
    "    ax.plot(x.detach().numpy(), y.detach().numpy(), color='blue', label='Pred_Train')\n",
    "    ax.plot(x.detach().cpu().numpy(), yh_plot.detach().cpu().numpy(), color='red', label='Real_Train')\n",
    "    ax.set_xlabel('x', color='black')\n",
    "    ax.set_ylabel('f(x)', color='black')\n",
    "    ax.tick_params(axis='y', color='black')\n",
    "    ax.legend(loc='upper left')\n",
    "    "
   ]
  },
  {
   "cell_type": "code",
   "execution_count": 357,
   "metadata": {},
   "outputs": [
    {
     "data": {
      "image/png": "[encoded data removed]",
      "text/plain": [
       "<Figure size 432x288 with 1 Axes>"
      ]
     },
     "metadata": {
      "needs_background": "light"
     },
     "output_type": "display_data"
    }
   ],
   "source": [
    "path = 'model_nn/Source_Model_nu_3'\n",
    "model.load_state_dict(torch.load(path))\n",
    "\n",
    "yf = model(X_test)\n",
    "_, id_train = torch.sort(X_test.squeeze(1))\n",
    "X_test_plot = X_test[id_train]\n",
    "yf_plot = yf[id_train]\n",
    "f_plot = f[id_train]\n",
    " \n",
    "plot_1d(X_test_plot,yf_plot,X_test_plot,f_plot)\n",
    " \n",
    " \n",
    " \n",
    "\n"
   ]
  },
  {
   "cell_type": "markdown",
   "metadata": {},
   "source": [
    "## -----------------------------------------------------------------------------------------------------------------------------\n",
    "## -----------------------------------------------------------------------------------------------------------------------------\n",
    "## -----------------------------------------------------------------------------------------------------------------------------\n",
    "## -----------------------------------------------------------------------------------------------------------------------------\n",
    "## -----------------------------------------------------------------------------------------------------------------------------"
   ]
  },
  {
   "cell_type": "markdown",
   "metadata": {},
   "source": [
    "# Transfer Learning Target"
   ]
  },
  {
   "cell_type": "code",
   "execution_count": 38,
   "metadata": {},
   "outputs": [],
   "source": [
    "nus = [1,2,3]"
   ]
  },
  {
   "cell_type": "markdown",
   "metadata": {},
   "source": [
    "# previous model"
   ]
  },
  {
   "cell_type": "code",
   "execution_count": 44,
   "metadata": {},
   "outputs": [],
   "source": [
    "class PINN(nn.Module):\n",
    "    ##Neural Network\n",
    "    def __init__(self,layers,nu):\n",
    "        super().__init__() #call __init__ from parent class \n",
    "        'activation function'\n",
    "        self.activation = nn.Tanh()\n",
    "        'loss function'\n",
    "        self.loss_function = nn.MSELoss(reduction ='mean')\n",
    "        'Initialise neural network as a list using nn.Modulelist'  \n",
    "        self.linears = nn.ModuleList([nn.Linear(layers[i], layers[i+1]) for i in range(len(layers)-1)]) \n",
    "        self.iter = 0\n",
    "        self.nu = nu\n",
    "        'Xavier Normal Initialization'\n",
    "        # std = gain * sqrt(2/(input_dim+output_dim))\n",
    "\n",
    "\n",
    "        for i in range(len(layers)-1):\n",
    "            nn.init.xavier_normal_(self.linears[i].weight.data, gain=1.0)\n",
    "            \n",
    "            # set biases to zero\n",
    "            nn.init.zeros_(self.linears[i].bias.data)  \n",
    "                \n",
    "                \n",
    "                \n",
    "    'foward pass'\n",
    "    def forward(self,X):\n",
    "        if torch.is_tensor(X) != True:         \n",
    "            X = torch.from_numpy(X)                \n",
    "        a = X.float()\n",
    "        for i in range(len(layers)-2):  \n",
    "            z = self.linears[i](a)              \n",
    "            a = self.activation(z)    \n",
    "        a = self.linears[-1](a)\n",
    "        return a\n",
    "    'Loss Functions'\n",
    "    #Loss BC\n",
    "    def lossBC(self,X_BC,f_BC):\n",
    "        loss_BC=self.loss_function(self.forward(X_BC),f_BC)\n",
    "        return loss_BC\n",
    "    #Loss PDE\n",
    "    def lossPDE(self,X_PDE):\n",
    "        g=X_PDE.clone()\n",
    "        g.requires_grad=True #Enable differentiation\n",
    "        f=self.forward(g)\n",
    "        f_X=autograd.grad(f,g,grad_outputs=torch.ones_like(f),create_graph=True)[0] #first derivative    \n",
    "        grad_x =   f_X[:,0]\n",
    "       \n",
    "        f_XX = autograd.grad(grad_x, g, grad_outputs=torch.ones_like(grad_x), create_graph=True)[0][:, 0]\n",
    "        \n",
    "        solu = np.pi ** 2 *torch.sin(self.nu*np.pi * g[:, 0:1])\n",
    "        delta_f=f_XX.unsqueeze(1) + self.nu**2*solu\n",
    "        \n",
    "         \n",
    "        \n",
    "        \n",
    "        return self.loss_function(delta_f,f_hat)\n",
    "#     + 2*np.pi ** 2 *torch.sin(np.pi * g[:, 0:1])*torch.sin(np.pi * g[:, 1:])\n",
    "        \n",
    "    def loss(self,X_BC,f_BC,X_PDE):\n",
    "        loss_bc=self.lossBC(X_BC,f_BC)\n",
    "        loss_pde=self.lossPDE(X_PDE)\n",
    "        return loss_bc+loss_pde\n",
    "#X_train_Nu,v_train_Nu,X_train_Nf\n",
    "\n"
   ]
  },
  {
   "cell_type": "markdown",
   "metadata": {},
   "source": [
    "# New model"
   ]
  },
  {
   "cell_type": "code",
   "execution_count": 130,
   "metadata": {},
   "outputs": [],
   "source": [
    "class PINN_model(nn.Module):\n",
    "    ##Neural Network\n",
    "    def __init__(self,layers,nu):\n",
    "        super().__init__() #call __init__ from parent class \n",
    "        'activation function'\n",
    "        self.activation = nn.Tanh()\n",
    "        'loss function'\n",
    "        self.loss_function = nn.MSELoss(reduction ='mean')\n",
    "        'Initialise neural network as a list using nn.Modulelist'  \n",
    "        self.linears = nn.ModuleList([nn.Linear(layers[i], layers[i+1]) for i in range(len(layers)-1)]) \n",
    "        self.iter = 0\n",
    "        self.nu = nu\n",
    "        'Xavier Normal Initialization'\n",
    "        # std = gain * sqrt(2/(input_dim+output_dim))\n",
    "        with torch.no_grad():\n",
    "            for new_param, existing_param in zip(self.parameters(), existing_model.parameters()):\n",
    "                new_param.data = existing_param.data \n",
    "\n",
    "\n",
    "#         for i in range(len(layers)-1):\n",
    "#             nn.init.xavier_normal_(self.linears[i].weight.data, gain=1.0)\n",
    "            \n",
    "#             # set biases to zero\n",
    "#             nn.init.zeros_(self.linears[i].bias.data)  \n",
    "                \n",
    "                \n",
    "                \n",
    "    'foward pass'\n",
    "    def forward(self,X):\n",
    "        if torch.is_tensor(X) != True:         \n",
    "            X = torch.from_numpy(X)                \n",
    "        a = X.float()\n",
    "        for i in range(len(layers)-2):  \n",
    "            z = self.linears[i](a)              \n",
    "            a = self.activation(z)    \n",
    "        a = self.linears[-1](a)\n",
    "        return a\n",
    "    'Loss Functions'\n",
    "    #Loss BC\n",
    "    def lossBC(self,X_BC,f_BC):\n",
    "        loss_BC=self.loss_function(self.forward(X_BC),f_BC)\n",
    "        return loss_BC\n",
    "    #Loss PDE\n",
    "    def lossPDE(self,X_PDE):\n",
    "        g=X_PDE.clone()\n",
    "        g.requires_grad=True #Enable differentiation\n",
    "        f=self.forward(g)\n",
    "        f_X=autograd.grad(f,g,grad_outputs=torch.ones_like(f),create_graph=True)[0] #first derivative    \n",
    "        grad_x =   f_X[:,0]\n",
    "       \n",
    "        f_XX = autograd.grad(grad_x, g, grad_outputs=torch.ones_like(grad_x), create_graph=True)[0][:, 0]\n",
    "        \n",
    "        solu = np.pi ** 2 *torch.sin(self.nu*np.pi * g[:, 0:1])\n",
    "        delta_f=f_XX.unsqueeze(1) + self.nu**2*solu\n",
    "        \n",
    "         \n",
    "        \n",
    "        \n",
    "        return self.loss_function(delta_f,f_hat)\n",
    "#     + 2*np.pi ** 2 *torch.sin(np.pi * g[:, 0:1])*torch.sin(np.pi * g[:, 1:])\n",
    "        \n",
    "    def loss(self,X_BC,f_BC,X_PDE):\n",
    "        loss_bc=self.lossBC(X_BC,f_BC)\n",
    "        loss_pde=self.lossPDE(X_PDE)\n",
    "        return loss_bc+loss_pde\n",
    "#X_train_Nu,v_train_Nu,X_train_Nf\n",
    "\n"
   ]
  },
  {
   "cell_type": "code",
   "execution_count": 131,
   "metadata": {},
   "outputs": [],
   "source": [
    "steps=15000\n",
    "nu_target = 4\n",
    "lr=1e-3\n",
    "layers = np.array([1,50,50,20,50,50,1]) #5 hidden layers\n",
    "# To generate new data:\n",
    "x_l=-1\n",
    "x_r=1\n",
    "\n",
    "total_points=800\n",
    "#Nu: Number of training points (2 as we onlt have 2 boundaries), # Nf: Number of collocation points (Evaluate PDE)\n",
    "Nf=total_points\n"
   ]
  },
  {
   "cell_type": "code",
   "execution_count": 132,
   "metadata": {},
   "outputs": [],
   "source": [
    "def f_BC(x):\n",
    "    return 1-torch.abs(x)\n",
    "\n",
    "\n",
    "def f_real(x,nu):\n",
    "    return torch.sin(nu*np.pi*x)\n",
    "\n",
    "def find_closest_value(input_list, target_value):\n",
    "    closest_value = min(input_list, key=lambda x: abs(x - target_value))\n",
    "    return closest_value"
   ]
  },
  {
   "cell_type": "code",
   "execution_count": 133,
   "metadata": {},
   "outputs": [
    {
     "name": "stdout",
     "output_type": "stream",
     "text": [
      "3\n"
     ]
    },
    {
     "data": {
      "text/plain": [
       "<All keys matched successfully>"
      ]
     },
     "execution_count": 133,
     "metadata": {},
     "output_type": "execute_result"
    }
   ],
   "source": [
    "nu_source = find_closest_value(nus, nu_target)\n",
    "print(nu_source)\n",
    "    \n",
    "\n",
    "existing_model = PINN(layers,nu_source)\n",
    "path = 'model_nn/Source_Model_nu_{}'.format(nu_source)\n",
    "existing_model.load_state_dict(torch.load(path))"
   ]
  },
  {
   "cell_type": "code",
   "execution_count": 134,
   "metadata": {},
   "outputs": [
    {
     "data": {
      "text/plain": [
       "PINN_model(\n",
       "  (activation): Tanh()\n",
       "  (loss_function): MSELoss()\n",
       "  (linears): ModuleList(\n",
       "    (0): Linear(in_features=1, out_features=50, bias=True)\n",
       "    (1): Linear(in_features=50, out_features=50, bias=True)\n",
       "    (2): Linear(in_features=50, out_features=20, bias=True)\n",
       "    (3): Linear(in_features=20, out_features=50, bias=True)\n",
       "    (4): Linear(in_features=50, out_features=50, bias=True)\n",
       "    (5): Linear(in_features=50, out_features=1, bias=True)\n",
       "  )\n",
       ")"
      ]
     },
     "execution_count": 134,
     "metadata": {},
     "output_type": "execute_result"
    }
   ],
   "source": [
    "model_new = PINN_model(layers,nu_target)\n",
    "\n",
    "model_new.to(device)"
   ]
  },
  {
   "cell_type": "code",
   "execution_count": 135,
   "metadata": {},
   "outputs": [],
   "source": [
    "# Plot the function as a 3D heatmap\n",
    "x = torch.linspace(x_l,x_r,total_points).view(-1,1) #prepare to NN\n",
    "\n",
    "\n",
    "\n",
    "# Transform the mesh into a 2-column vector\n",
    "x_test=x\n",
    "\n",
    " \n",
    "# Domain bounds\n",
    "lb=x_test[0] #first value\n",
    "ub=x_test[-1] #last value \n",
    "\n",
    "\n",
    "\n",
    "\n",
    "\n",
    "#Boundary Conditions\n",
    "#Left Edge \n",
    "left_X=lb\n",
    "vleft_boundary = f_BC(lb)\n",
    "\n",
    "#right Edge\n",
    "right_X=ub\n",
    "vright_boundary = f_BC(ub)\n",
    "    \n",
    "# Collocation Points (Evaluate our PDe)\n",
    "#Choose(Nf) points(Latin hypercube)\n",
    "X_train_Nf=lb+(ub-lb)*lhs(1,Nf) # 2 as the inputs are x and y\n",
    "\n",
    "X_train_Nu =torch.vstack([left_X,right_X]) \n",
    "v_train_Nu=torch.vstack([vleft_boundary,vright_boundary])  \n",
    "\n",
    "\n",
    "\n",
    "\n",
    "torch.manual_seed(123)\n",
    "#Store tensors to GPU\n",
    "\n",
    "X_train_Nf=X_train_Nf.float().to(device)#Collocation Points\n",
    "f_hat = torch.zeros(X_train_Nf.shape[0],1).to(device)#to minimize function\n",
    "\n",
    "\n",
    "X_test=x_test.float().to(device) # the input dataset (complete)\n",
    "V_test=v_test.float().to(device) # the real solution     \n",
    "\n",
    "\n",
    "f = f_real(X_test,nu_target)\n",
    "v_test=f.flatten() "
   ]
  },
  {
   "cell_type": "code",
   "execution_count": 136,
   "metadata": {},
   "outputs": [],
   "source": [
    "params = list(model_new.parameters())\n",
    "\n",
    "optimizer = torch.optim.Adam(model_new.parameters(), lr=lr, amsgrad=False)\n"
   ]
  },
  {
   "cell_type": "code",
   "execution_count": 137,
   "metadata": {},
   "outputs": [
    {
     "data": {
      "text/plain": [
       "tensor(1.9957e-05, grad_fn=<MseLossBackward>)"
      ]
     },
     "execution_count": 137,
     "metadata": {},
     "output_type": "execute_result"
    }
   ],
   "source": [
    "\n",
    "model_new.lossBC(X_train_Nu,v_train_Nu)"
   ]
  },
  {
   "cell_type": "code",
   "execution_count": 138,
   "metadata": {},
   "outputs": [
    {
     "name": "stdout",
     "output_type": "stream",
     "text": [
      "tensor(16418.3926, grad_fn=<AddBackward0>)\n",
      "error_u 1.2846196\n",
      "tensor(642.0907, grad_fn=<AddBackward0>)\n",
      "error_u 0.9703299\n",
      "tensor(352.3809, grad_fn=<AddBackward0>)\n",
      "error_u 1.778772\n",
      "tensor(225.3580, grad_fn=<AddBackward0>)\n",
      "error_u 4.073172\n",
      "tensor(171.9732, grad_fn=<AddBackward0>)\n",
      "error_u 5.3412986\n",
      "tensor(87.1494, grad_fn=<AddBackward0>)\n",
      "error_u 6.0646906\n",
      "tensor(49.9066, grad_fn=<AddBackward0>)\n",
      "error_u 5.3338737\n",
      "tensor(29.3467, grad_fn=<AddBackward0>)\n",
      "error_u 4.1163716\n",
      "tensor(18.1846, grad_fn=<AddBackward0>)\n",
      "error_u 3.157982\n",
      "tensor(11.6833, grad_fn=<AddBackward0>)\n",
      "error_u 2.4622228\n",
      "tensor(9.9696, grad_fn=<AddBackward0>)\n",
      "error_u 1.920213\n",
      "tensor(4.8125, grad_fn=<AddBackward0>)\n",
      "error_u 1.4757577\n",
      "tensor(2.8271, grad_fn=<AddBackward0>)\n",
      "error_u 1.0993743\n",
      "tensor(1.4439, grad_fn=<AddBackward0>)\n",
      "error_u 0.7787317\n",
      "tensor(6.7284, grad_fn=<AddBackward0>)\n",
      "error_u 0.52248734\n",
      "tensor(0.4074, grad_fn=<AddBackward0>)\n",
      "error_u 0.32418588\n",
      "tensor(0.2037, grad_fn=<AddBackward0>)\n",
      "error_u 0.19238013\n",
      "tensor(0.5423, grad_fn=<AddBackward0>)\n",
      "error_u 0.12336558\n",
      "tensor(0.0994, grad_fn=<AddBackward0>)\n",
      "error_u 0.06538183\n",
      "tensor(0.0865, grad_fn=<AddBackward0>)\n",
      "error_u 0.04292987\n",
      "tensor(0.0472, grad_fn=<AddBackward0>)\n",
      "error_u 0.025671631\n",
      "tensor(0.1534, grad_fn=<AddBackward0>)\n",
      "error_u 0.027647989\n",
      "tensor(3.3192, grad_fn=<AddBackward0>)\n",
      "error_u 0.019609785\n",
      "tensor(0.0682, grad_fn=<AddBackward0>)\n",
      "error_u 0.015794763\n",
      "tensor(14.7467, grad_fn=<AddBackward0>)\n",
      "error_u 0.029055677\n",
      "tensor(0.0672, grad_fn=<AddBackward0>)\n",
      "error_u 0.00937679\n",
      "tensor(0.0537, grad_fn=<AddBackward0>)\n",
      "error_u 0.008970339\n",
      "tensor(1.3143, grad_fn=<AddBackward0>)\n",
      "error_u 0.01881191\n",
      "tensor(0.0496, grad_fn=<AddBackward0>)\n",
      "error_u 0.00770272\n",
      "tensor(0.0712, grad_fn=<AddBackward0>)\n",
      "error_u 0.0066755787\n",
      "tensor(0.1024, grad_fn=<AddBackward0>)\n",
      "error_u 0.0064951805\n",
      "tensor(0.0569, grad_fn=<AddBackward0>)\n",
      "error_u 0.0068649007\n",
      "tensor(0.0288, grad_fn=<AddBackward0>)\n",
      "error_u 0.0059969486\n",
      "tensor(0.2248, grad_fn=<AddBackward0>)\n",
      "error_u 0.009415848\n",
      "tensor(0.0219, grad_fn=<AddBackward0>)\n",
      "error_u 0.0053715464\n",
      "tensor(0.1701, grad_fn=<AddBackward0>)\n",
      "error_u 0.013336187\n",
      "tensor(0.0469, grad_fn=<AddBackward0>)\n",
      "error_u 0.005323154\n",
      "tensor(0.0346, grad_fn=<AddBackward0>)\n",
      "error_u 0.0049313945\n",
      "tensor(0.0824, grad_fn=<AddBackward0>)\n",
      "error_u 0.0053466577\n",
      "tensor(1.0778, grad_fn=<AddBackward0>)\n",
      "error_u 0.010504051\n",
      "tensor(9.1183, grad_fn=<AddBackward0>)\n",
      "error_u 0.025232477\n",
      "tensor(5.1974, grad_fn=<AddBackward0>)\n",
      "error_u 0.017514998\n",
      "tensor(3.5289, grad_fn=<AddBackward0>)\n",
      "error_u 0.024745967\n",
      "tensor(0.1156, grad_fn=<AddBackward0>)\n",
      "error_u 0.005345733\n",
      "tensor(0.0163, grad_fn=<AddBackward0>)\n",
      "error_u 0.0039541433\n",
      "tensor(0.0248, grad_fn=<AddBackward0>)\n",
      "error_u 0.003447806\n",
      "tensor(0.2499, grad_fn=<AddBackward0>)\n",
      "error_u 0.00870018\n",
      "tensor(0.5210, grad_fn=<AddBackward0>)\n",
      "error_u 0.013422331\n",
      "tensor(0.0129, grad_fn=<AddBackward0>)\n",
      "error_u 0.0041283714\n",
      "tensor(0.0173, grad_fn=<AddBackward0>)\n",
      "error_u 0.0039116675\n",
      "tensor(0.0314, grad_fn=<AddBackward0>)\n",
      "error_u 0.017786408\n",
      "tensor(2.0172, grad_fn=<AddBackward0>)\n",
      "error_u 0.018156925\n",
      "tensor(3.3488, grad_fn=<AddBackward0>)\n",
      "error_u 0.01832561\n",
      "tensor(1.1218, grad_fn=<AddBackward0>)\n",
      "error_u 0.009085912\n",
      "tensor(0.0225, grad_fn=<AddBackward0>)\n",
      "error_u 0.004121198\n",
      "tensor(0.6842, grad_fn=<AddBackward0>)\n",
      "error_u 0.00922087\n",
      "tensor(0.0582, grad_fn=<AddBackward0>)\n",
      "error_u 0.0025882819\n",
      "tensor(0.0814, grad_fn=<AddBackward0>)\n",
      "error_u 0.0038693019\n",
      "tensor(0.1676, grad_fn=<AddBackward0>)\n",
      "error_u 0.006680769\n",
      "tensor(0.2929, grad_fn=<AddBackward0>)\n",
      "error_u 0.012578126\n",
      "tensor(2.2865, grad_fn=<AddBackward0>)\n",
      "error_u 0.013510449\n",
      "tensor(0.3519, grad_fn=<AddBackward0>)\n",
      "error_u 0.008905772\n",
      "tensor(0.1110, grad_fn=<AddBackward0>)\n",
      "error_u 0.008452499\n",
      "tensor(6.5977, grad_fn=<AddBackward0>)\n",
      "error_u 0.024823362\n",
      "tensor(0.1553, grad_fn=<AddBackward0>)\n",
      "error_u 0.005369798\n",
      "tensor(0.0093, grad_fn=<AddBackward0>)\n",
      "error_u 0.0023726823\n",
      "tensor(0.3373, grad_fn=<AddBackward0>)\n",
      "error_u 0.015515789\n",
      "tensor(0.0095, grad_fn=<AddBackward0>)\n",
      "error_u 0.0034617647\n",
      "tensor(11.4555, grad_fn=<AddBackward0>)\n",
      "error_u 0.029919395\n",
      "tensor(0.2670, grad_fn=<AddBackward0>)\n",
      "error_u 0.013030069\n",
      "tensor(0.1949, grad_fn=<AddBackward0>)\n",
      "error_u 0.007921046\n",
      "tensor(0.3271, grad_fn=<AddBackward0>)\n",
      "error_u 0.007994047\n",
      "tensor(2.2263, grad_fn=<AddBackward0>)\n",
      "error_u 0.015266149\n",
      "tensor(1.9522, grad_fn=<AddBackward0>)\n",
      "error_u 0.014876334\n",
      "tensor(3.6974, grad_fn=<AddBackward0>)\n",
      "error_u 0.014915451\n",
      "Wall time: 3min 44s\n"
     ]
    }
   ],
   "source": [
    "%%time\n",
    "error_i = []\n",
    "epochs = []\n",
    "loss_i = []\n",
    "for i in range(steps):\n",
    "     \n",
    "    loss = model_new.loss(X_train_Nu,v_train_Nu,X_train_Nf)# use mean squared error\n",
    "    optimizer.zero_grad()\n",
    "    loss.backward()\n",
    "    optimizer.step()\n",
    "    \n",
    "    if i%200==0:\n",
    "        print(loss)\n",
    "        yf = model_new(X_test)\n",
    "        _, id_train = torch.sort(X_test.squeeze(1))\n",
    "        X_test_plot = X_test[id_train]\n",
    "        yf_plot = yf[id_train]\n",
    "        f_plot = f[id_train]\n",
    "        error_v = np.linalg.norm(yf_plot.detach().numpy()-f_plot.detach().numpy(),2)/np.linalg.norm(f_plot.detach().numpy(),2)\n",
    "        print('error_u',error_v)\n",
    "        \n",
    "        epochs.append(i)\n",
    "        error_i.append(error_v)\n",
    "        loss_i.append(loss)\n"
   ]
  },
  {
   "cell_type": "code",
   "execution_count": 139,
   "metadata": {},
   "outputs": [
    {
     "name": "stdout",
     "output_type": "stream",
     "text": [
      "[1.2846196, 0.9703299, 1.778772, 4.073172, 5.3412986, 6.0646906, 5.3338737, 4.1163716, 3.157982, 2.4622228, 1.920213, 1.4757577, 1.0993743, 0.7787317, 0.52248734, 0.32418588, 0.19238013, 0.12336558, 0.06538183, 0.04292987, 0.025671631, 0.027647989, 0.019609785, 0.015794763, 0.029055677, 0.00937679, 0.008970339, 0.01881191, 0.00770272, 0.0066755787, 0.0064951805, 0.0068649007, 0.0059969486, 0.009415848, 0.0053715464, 0.013336187, 0.005323154, 0.0049313945, 0.0053466577, 0.010504051, 0.025232477, 0.017514998, 0.024745967, 0.005345733, 0.0039541433, 0.003447806, 0.00870018, 0.013422331, 0.0041283714, 0.0039116675, 0.017786408, 0.018156925, 0.01832561, 0.009085912, 0.004121198, 0.00922087, 0.0025882819, 0.0038693019, 0.006680769, 0.012578126, 0.013510449, 0.008905772, 0.008452499, 0.024823362, 0.005369798, 0.0023726823, 0.015515789, 0.0034617647, 0.029919395, 0.013030069, 0.007921046, 0.007994047, 0.015266149, 0.014876334, 0.014915451]\n"
     ]
    }
   ],
   "source": [
    "print(error_i)"
   ]
  },
  {
   "cell_type": "code",
   "execution_count": 140,
   "metadata": {},
   "outputs": [
    {
     "data": {
      "text/plain": [
       "[<matplotlib.lines.Line2D at 0x26da5526b80>]"
      ]
     },
     "execution_count": 140,
     "metadata": {},
     "output_type": "execute_result"
    },
    {
     "data": {
      "image/png": "[encoded data removed]",
      "text/plain": [
       "<Figure size 432x288 with 1 Axes>"
      ]
     },
     "metadata": {
      "needs_background": "light"
     },
     "output_type": "display_data"
    }
   ],
   "source": [
    "plt.plot(epochs[30:],error_i[30:])"
   ]
  },
  {
   "cell_type": "code",
   "execution_count": 127,
   "metadata": {},
   "outputs": [
    {
     "data": {
      "text/plain": [
       "[<matplotlib.lines.Line2D at 0x26da576c940>]"
      ]
     },
     "execution_count": 127,
     "metadata": {},
     "output_type": "execute_result"
    },
    {
     "data": {
      "image/png": "[encoded data removed]",
      "text/plain": [
       "<Figure size 432x288 with 1 Axes>"
      ]
     },
     "metadata": {
      "needs_background": "light"
     },
     "output_type": "display_data"
    }
   ],
   "source": [
    "plt.plot(epochs[30:],error_i[30:])"
   ]
  },
  {
   "cell_type": "code",
   "execution_count": 141,
   "metadata": {},
   "outputs": [],
   "source": [
    "def plot_1d(x,y,x_train_plot,yh_plot):\n",
    "    \n",
    "    _, ax = plt.subplots()\n",
    "    ax.plot(x.detach().numpy(), y.detach().numpy(), color='blue', label='Pred_Train')\n",
    "    ax.plot(x.detach().cpu().numpy(), yh_plot.detach().cpu().numpy(), color='red', label='Real_Train')\n",
    "    ax.set_xlabel('x', color='black')\n",
    "    ax.set_ylabel('f(x)', color='black')\n",
    "    ax.tick_params(axis='y', color='black')\n",
    "    ax.legend(loc='upper left')"
   ]
  },
  {
   "cell_type": "code",
   "execution_count": 142,
   "metadata": {},
   "outputs": [
    {
     "name": "stdout",
     "output_type": "stream",
     "text": [
      "tensor(8.6427e-06, grad_fn=<MinBackward1>)\n",
      "tensor(0.0136, grad_fn=<MaxBackward1>)\n"
     ]
    },
    {
     "data": {
      "image/png": "[encoded data removed]",
      "text/plain": [
       "<Figure size 432x288 with 1 Axes>"
      ]
     },
     "metadata": {
      "needs_background": "light"
     },
     "output_type": "display_data"
    },
    {
     "data": {
      "image/png": "[encoded data removed]",
      "text/plain": [
       "<Figure size 432x288 with 1 Axes>"
      ]
     },
     "metadata": {
      "needs_background": "light"
     },
     "output_type": "display_data"
    }
   ],
   "source": [
    "yf = model_new(X_test)\n",
    "_, id_train = torch.sort(X_test.squeeze(1))\n",
    "X_test_plot = X_test[id_train]\n",
    "yf_plot = yf[id_train]\n",
    "f_plot = f[id_train]\n",
    " \n",
    "\n",
    "plot_1d(X_test_plot,yf_plot,X_test_plot,f_plot)\n",
    "_, ax = plt.subplots()\n",
    "ax.plot(X_test_plot.detach().numpy(),abs(yf_plot.detach().numpy()-f_plot.detach().numpy()))\n",
    " \n",
    "\n",
    "print(torch.min(abs(yf_plot - f_plot)))\n",
    "print(torch.max(abs(yf_plot - f_plot)))"
   ]
  },
  {
   "cell_type": "code",
   "execution_count": null,
   "metadata": {},
   "outputs": [],
   "source": []
  },
  {
   "cell_type": "code",
   "execution_count": null,
   "metadata": {},
   "outputs": [],
   "source": []
  }
 ],
 "metadata": {
  "kernelspec": {
   "display_name": "Python 3",
   "language": "python",
   "name": "python3"
  },
  "language_info": {
   "codemirror_mode": {
    "name": "ipython",
    "version": 3
   },
   "file_extension": ".py",
   "mimetype": "text/x-python",
   "name": "python",
   "nbconvert_exporter": "python",
   "pygments_lexer": "ipython3",
   "version": "3.8.5"
  }
 },
 "nbformat": 4,
 "nbformat_minor": 4
}
